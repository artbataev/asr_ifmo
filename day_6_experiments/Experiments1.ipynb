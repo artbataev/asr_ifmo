{
 "cells": [
  {
   "cell_type": "code",
   "execution_count": 1,
   "metadata": {
    "collapsed": true
   },
   "outputs": [],
   "source": [
    "import numpy as np\n",
    "import tensorflow as tf \n",
    "import pickle\n",
    "import os\n",
    "import glob\n",
    "import tqdm\n",
    "import matplotlib.pyplot as plt\n",
    "import itertools\n",
    "import multiprocessing\n",
    "%matplotlib inline"
   ]
  },
  {
   "cell_type": "code",
   "execution_count": 64,
   "metadata": {
    "collapsed": true
   },
   "outputs": [],
   "source": [
    "with open(\"../data/lip_reading/new_alig\", \"r\") as f:\n",
    "    labels = f.readlines()"
   ]
  },
  {
   "cell_type": "code",
   "execution_count": 65,
   "metadata": {
    "collapsed": true
   },
   "outputs": [],
   "source": [
    "labels = list(map(lambda x: x.strip().split(), labels))"
   ]
  },
  {
   "cell_type": "code",
   "execution_count": 66,
   "metadata": {
    "collapsed": true
   },
   "outputs": [],
   "source": [
    "file2words = {}"
   ]
  },
  {
   "cell_type": "code",
   "execution_count": 67,
   "metadata": {
    "collapsed": true
   },
   "outputs": [],
   "source": [
    "for filename, *phones in labels:\n",
    "    file2words[filename] = \"\".join((sound for sound, _ in itertools.groupby(phones)))\n",
    "    file2words[filename] = file2words[filename].replace(\"SIL\", \" \").strip()"
   ]
  },
  {
   "cell_type": "code",
   "execution_count": 68,
   "metadata": {},
   "outputs": [
    {
     "data": {
      "text/plain": [
       "\"chi1ty0r'i4vo0s'i4m'a1d'i0no0l' s'e0m'\""
      ]
     },
     "execution_count": 68,
     "metadata": {},
     "output_type": "execute_result"
    }
   ],
   "source": [
    "file2words[\"M0202_02_48107_Win_Dell\"]"
   ]
  },
  {
   "cell_type": "code",
   "execution_count": 69,
   "metadata": {},
   "outputs": [
    {
     "data": {
      "text/plain": [
       "\"vo0s'i4m'chi1ty0r'i4d'e0v'i4t'a1d'i0nshe0s't'\""
      ]
     },
     "execution_count": 69,
     "metadata": {},
     "output_type": "execute_result"
    }
   ],
   "source": [
    "list(file2words.values())[0]"
   ]
  },
  {
   "cell_type": "code",
   "execution_count": 70,
   "metadata": {
    "collapsed": true
   },
   "outputs": [],
   "source": [
    "with open(\"../data/lip_reading/lexicon\", \"r\") as f:\n",
    "    lexicon = f.readlines()"
   ]
  },
  {
   "cell_type": "code",
   "execution_count": 71,
   "metadata": {},
   "outputs": [
    {
     "data": {
      "text/plain": [
       "['<sil> SIL\\n',\n",
       " \"ноль n o0 l'\\n\",\n",
       " \"один a1 d' i0 n\\n\",\n",
       " 'два d v a0\\n',\n",
       " \"три t r' i0\\n\",\n",
       " \"четыре ch i1 t y0 r' i4\\n\",\n",
       " \"пять p' a0 t'\\n\",\n",
       " \"шесть sh e0 s' t'\\n\",\n",
       " \"семь s' e0 m'\\n\",\n",
       " \"восемь v o0 s' i4 m'\\n\",\n",
       " \"девять d' e0 v' i4 t'\\n\"]"
      ]
     },
     "execution_count": 71,
     "metadata": {},
     "output_type": "execute_result"
    }
   ],
   "source": [
    "lexicon"
   ]
  },
  {
   "cell_type": "code",
   "execution_count": 72,
   "metadata": {
    "collapsed": true
   },
   "outputs": [],
   "source": [
    "word2phonemes = {}"
   ]
  },
  {
   "cell_type": "code",
   "execution_count": 73,
   "metadata": {
    "collapsed": true
   },
   "outputs": [],
   "source": [
    "for row in lexicon[1:]:\n",
    "    word, *phones = row.strip().split()\n",
    "    word2phonemes[word] = \"\".join(phones)"
   ]
  },
  {
   "cell_type": "code",
   "execution_count": 74,
   "metadata": {},
   "outputs": [
    {
     "data": {
      "text/plain": [
       "{'восемь': \"vo0s'i4m'\",\n",
       " 'два': 'dva0',\n",
       " 'девять': \"d'e0v'i4t'\",\n",
       " 'ноль': \"no0l'\",\n",
       " 'один': \"a1d'i0n\",\n",
       " 'пять': \"p'a0t'\",\n",
       " 'семь': \"s'e0m'\",\n",
       " 'три': \"tr'i0\",\n",
       " 'четыре': \"chi1ty0r'i4\",\n",
       " 'шесть': \"she0s't'\"}"
      ]
     },
     "execution_count": 74,
     "metadata": {},
     "output_type": "execute_result"
    }
   ],
   "source": [
    "word2phonemes"
   ]
  },
  {
   "cell_type": "code",
   "execution_count": 75,
   "metadata": {},
   "outputs": [],
   "source": [
    "word2num = {\n",
    "    \"ноль\": 0,\n",
    "    \"один\": 1,\n",
    "    \"два\": 2,\n",
    "    \"три\": 3,\n",
    "    \"четыре\": 4,\n",
    "    \"пять\": 5,\n",
    "    \"шесть\": 6,\n",
    "    \"семь\": 7,\n",
    "    \"восемь\": 8,\n",
    "    \"девять\": 9,\n",
    "}"
   ]
  },
  {
   "cell_type": "code",
   "execution_count": 76,
   "metadata": {
    "collapsed": true
   },
   "outputs": [],
   "source": [
    "from collections import OrderedDict"
   ]
  },
  {
   "cell_type": "code",
   "execution_count": 77,
   "metadata": {
    "collapsed": true
   },
   "outputs": [],
   "source": [
    "phonemes2word = OrderedDict(zip(word2phonemes.values(), word2phonemes.keys()))\n",
    "phonemes2word[\"o0l'\"] = \"ноль\" # хак"
   ]
  },
  {
   "cell_type": "code",
   "execution_count": 78,
   "metadata": {
    "collapsed": true
   },
   "outputs": [],
   "source": [
    "for filename in file2words.keys():\n",
    "    current_str = file2words[filename]\n",
    "    for transcription, word in phonemes2word.items():\n",
    "        current_str = current_str.replace(transcription, \" \" + word + \" \")\n",
    "    current_str = \" \".join(current_str.split())\n",
    "    file2words[filename] = current_str"
   ]
  },
  {
   "cell_type": "code",
   "execution_count": 79,
   "metadata": {},
   "outputs": [],
   "source": [
    "file2nums = {}\n",
    "for filename in file2words.keys():\n",
    "    try:\n",
    "        file2nums[filename] = [word2num[word] for word in file2words[filename].split()]\n",
    "    except:\n",
    "        print(filename, file2words[filename])"
   ]
  },
  {
   "cell_type": "code",
   "execution_count": 36,
   "metadata": {},
   "outputs": [
    {
     "data": {
      "text/plain": [
       "[('M0613_01_8435967021_Win_Dell',\n",
       "  'восемь четыре три пять девять шесть семь ноль два один'),\n",
       " ('M0384_02_2431089576_Win_SonyVAIO',\n",
       "  \"два четыре три один o0l' восемь девять пять семь шесть\"),\n",
       " ('M0516_01_69401_iPhone_6S', 'шесть девять четыре ноль один'),\n",
       " ('M0126_02_32507_Win_Dell', 'три два пять ноль семь'),\n",
       " ('M0135_03_87610_Android_SM_Gal_J3', 'восемь семь шесть один ноль'),\n",
       " ('M0470_01_0968431572_Win_SONY',\n",
       "  'ноль девять шесть восемь четыре три один пять семь два'),\n",
       " ('F0634_01_63741_Win_Dell', 'шесть три семь четыре один'),\n",
       " ('F034_01_6271853904_iPhone_6s',\n",
       "  'шесть два семь один восемь пять три девять ноль четыре'),\n",
       " ('M0770_01_25713_Win_SONY', 'два пять семь один три'),\n",
       " ('M0094_02_49267_Win_Sony', 'четыре девять два шесть семь'),\n",
       " ('M0606_01_5903264178_Android_SM',\n",
       "  'пять девять ноль три два шесть четыре один семь восемь'),\n",
       " ('M0198_03_1329408576_Android_SM',\n",
       "  'один три два девять четыре ноль восемь пять семь шесть'),\n",
       " ('F0405_01_9170236584_Win_SONY',\n",
       "  'девять один семь ноль два три шесть пять восемь четыре'),\n",
       " ('F0459_01_4681907235_Win_SONY',\n",
       "  'четыре шесть восемь один девять ноль семь два три пять'),\n",
       " ('M0589_01_06153_Android_SM', 'ноль шесть один пять три'),\n",
       " ('F0744_01_76528_Win_SONY', 'семь шесть пять два восемь'),\n",
       " ('M0163_02_39125_Android_nexus', 'три девять один два пять'),\n",
       " ('M0103_02_7639814520_Android_nexus',\n",
       "  'семь шесть три девять восемь один четыре пять два ноль'),\n",
       " ('F0215_03_28756_Android_SM', 'два восемь семь пять шесть'),\n",
       " ('M0138_01_6519347208_iPhone_6s',\n",
       "  'шесть пять один девять три четыре семь два ноль восемь'),\n",
       " ('M0404_01_3517082649_Win_SonyVAIO',\n",
       "  'три пять один семь ноль восемь два шесть четыре девять'),\n",
       " ('M0297_01_64180_Android_SM', 'шесть четыре один восемь ноль'),\n",
       " ('M0127_03_15768_Android_nexus', 'один пять семь шесть восемь'),\n",
       " ('M0167_01_87046_iPhone_6s', 'восемь семь ноль четыре шесть'),\n",
       " ('F0546_01_91870_Android_SM', 'девять один восемь семь ноль'),\n",
       " ('M0147_02_4850126937_Android_SM_Gal_J3',\n",
       "  'четыре восемь пять ноль один два шесть девять три семь'),\n",
       " ('M0908_01_19625_Win_SonyVAIO', 'один девять шесть два пять'),\n",
       " ('M0605_01_40162_Win_Dell', 'четыре ноль один шесть два'),\n",
       " ('M020_01_5829403761_Win_Dell',\n",
       "  'пять восемь два девять четыре ноль три семь шесть один'),\n",
       " ('F0014_03_47908_Android_SM', 'четыре семь девять ноль восемь'),\n",
       " ('M0091_03_28167_Win_Sony', 'два восемь один шесть семь'),\n",
       " ('M0902_01_53972_Android_Nexus', 'пять три девять семь два'),\n",
       " ('M0151_01_28163_Win_Dell', 'два восемь один шесть три'),\n",
       " ('F0873_01_8941275360_Android_SM_GJ3',\n",
       "  'восемь девять четыре один два семь пять три шесть ноль'),\n",
       " ('F0537_01_0615932784_Win_Dell',\n",
       "  'ноль шесть один пять девять три два семь восемь четыре'),\n",
       " ('M0223_01_79431_Android_SM_Gal_J3', 'семь девять четыре три один'),\n",
       " ('F0416_01_9753128046_Android_htc',\n",
       "  'девять семь пять три один два восемь ноль четыре шесть'),\n",
       " ('F0909_01_19625_Win_SonyVAIO', 'один девять шесть два пять'),\n",
       " ('M0538_01_45790_Android_SM', 'четыре пять семь девять ноль'),\n",
       " ('M0590_01_8790314652_Win_Dell',\n",
       "  'восемь семь девять ноль три один четыре шесть пять два'),\n",
       " ('M0480_03_63724_iPhone_iphone6', 'шесть три семь два четыре'),\n",
       " ('F0352_01_9314562870_Android_Nexus',\n",
       "  'девять три один четыре пять шесть два восемь семь ноль'),\n",
       " ('F0449_01_54831_Android_htc', 'пять четыре восемь три один'),\n",
       " ('F0362_02_48619_Android_Nexus', 'четыре восемь шесть один девять'),\n",
       " ('M0883_01_9675830241_Android_Nexus',\n",
       "  'девять шесть семь пять восемь три ноль два четыре один'),\n",
       " ('M0851_01_19082_Android_Nexus', 'один девять ноль восемь два'),\n",
       " ('F0510_01_92568_Win_Dell', 'девять два пять шесть восемь'),\n",
       " ('M0163_02_5473912608_Win_PC_Dell',\n",
       "  'пять четыре семь три девять один два шесть ноль восемь'),\n",
       " ('F0548_01_91870_Android_SM', 'девять один восемь семь ноль'),\n",
       " ('M0852_01_73465_Android_Nexus', 'семь три четыре шесть пять'),\n",
       " ('M0101_03_65473_Android_SM', 'шесть пять четыре семь три'),\n",
       " ('M0621_01_21436_Win_Dell', 'два один четыре три шесть'),\n",
       " ('F0881_01_06578_Android_Nexus', 'ноль шесть пять семь восемь'),\n",
       " ('M0114_01_8521607493_Android_SM',\n",
       "  'восемь пять два один шесть ноль семь четыре девять три'),\n",
       " ('M0574_01_5987236041_Android_SM',\n",
       "  'пять девять восемь семь два три шесть ноль четыре один'),\n",
       " ('M0870_01_7302965841_Android_Nexus',\n",
       "  'семь три ноль два девять шесть пять восемь четыре один'),\n",
       " ('M0178_03_3845916207_Win_PC_Dell',\n",
       "  'три восемь четыре пять девять один шесть два ноль семь'),\n",
       " ('M0270_01_70943_iPhone_6S', 'семь ноль девять четыре три'),\n",
       " ('M0266_03_56214_Win_PC_Dell', 'пять шесть два один четыре'),\n",
       " ('M0717_01_42703_iPhone_iphone6', 'четыре два семь ноль три'),\n",
       " ('M0091_01_28930_Win_Dell', 'два восемь девять три ноль'),\n",
       " ('F0275_01_58179_Win_Dell', 'пять восемь один семь девять'),\n",
       " ('M0622_01_5180429367_iPhone_6S',\n",
       "  'пять один восемь ноль четыре два девять три шесть семь'),\n",
       " ('M0748_01_6547123980_Android_SM',\n",
       "  'шесть пять четыре семь один два три девять восемь ноль'),\n",
       " ('M0391_01_5602739481_Android_SM_GJ3',\n",
       "  'пять шесть ноль два семь три девять четыре восемь один'),\n",
       " ('M0145_03_93851_Android_nexus', 'девять три восемь пять один'),\n",
       " ('M0133_01_9726431850_Android_SM',\n",
       "  'девять семь два шесть четыре три один восемь пять ноль'),\n",
       " ('F0519_01_3569014827_Win_Dell',\n",
       "  'три пять шесть девять ноль один четыре восемь два семь'),\n",
       " ('M0703_01_74536_Android_SM', 'семь четыре пять три шесть'),\n",
       " ('M0492_02_9637805412_Android_SM',\n",
       "  'девять шесть три семь восемь ноль пять четыре один два'),\n",
       " ('M0086_03_4587210963_Win_Sony',\n",
       "  \"четыре пять восемь семь два один o0l' девять шесть три\"),\n",
       " ('M0477_02_9418270356_Win_SONY',\n",
       "  'девять четыре один восемь два семь ноль три пять шесть'),\n",
       " ('M0123_01_8639725401_Win_PC_Dell',\n",
       "  'восемь шесть три девять семь два пять четыре ноль один'),\n",
       " ('M0145_03_19607_Win_PC_Dell', 'один девять шесть ноль семь'),\n",
       " ('F0893_01_98750_Android_SM_GJ3', 'девять восемь семь пять ноль'),\n",
       " ('F0478_01_4930216875_Win_SONY',\n",
       "  'четыре девять три ноль два один шесть восемь семь пять'),\n",
       " ('M0298_01_0984527136_Win_Dell',\n",
       "  'ноль девять восемь четыре пять два семь один три шесть'),\n",
       " ('M0245_02_81092_Win_Dell', 'восемь один ноль девять два'),\n",
       " ('F0745_01_86079_Win_SONY', 'восемь шесть ноль семь девять'),\n",
       " ('M0490_01_12795_Win_SONY', 'один два семь девять пять'),\n",
       " ('F1401_01_3517082649_Win_SonyVAIO',\n",
       "  'три пять один семь ноль восемь два шесть четыре девять'),\n",
       " ('F0637_01_9072834615_Win_Dell',\n",
       "  'девять ноль семь два восемь три четыре шесть один пять'),\n",
       " ('M0170_02_7216458903_Win_PC_Dell',\n",
       "  'семь два один шесть четыре пять восемь девять ноль три'),\n",
       " ('M0602_01_81264_Android_SM', 'восемь один два шесть четыре'),\n",
       " ('M0493_01_3658079142_iPhone_iphone6',\n",
       "  'три шесть пять восемь ноль семь девять один четыре два'),\n",
       " ('M0271_01_0921685374_Android_SM',\n",
       "  'ноль девять два один шесть восемь пять три семь четыре'),\n",
       " ('M0619_01_21436_Win_Dell', 'два один четыре три шесть'),\n",
       " ('F0400_01_02957_Win_SonyVAIO', 'ноль два девять пять семь'),\n",
       " ('M0110_01_6049527381_Win_Sony',\n",
       "  'шесть ноль четыре девять пять два семь три восемь один'),\n",
       " ('M0456_01_89201_Android_htc', 'восемь девять два ноль один'),\n",
       " ('F0362_03_2456830971_Win_SonyVAIO',\n",
       "  'два четыре пять шесть восемь три ноль девять семь один'),\n",
       " ('M0126_03_97513_Android_SM', 'девять семь пять один три'),\n",
       " ('M0610_01_03795_Android_SM', 'ноль три семь девять пять'),\n",
       " ('M0290_01_27648_Win_Dell', 'два семь шесть четыре восемь'),\n",
       " ('M0320_01_4801579236_Android_SM',\n",
       "  'четыре восемь ноль один пять семь девять два три шесть'),\n",
       " ('F0308_01_3490872156_Android_SM',\n",
       "  'три четыре девять ноль восемь семь два один пять шесть'),\n",
       " ('M0112_03_8376402915_iPhone_6s',\n",
       "  'восемь три семь шесть четыре ноль два девять один пять'),\n",
       " ('F0494_03_65801_Win_SONY', 'шесть пять восемь ноль один'),\n",
       " ('M020_03_47908_Android_SM', 'четыре семь девять ноль восемь'),\n",
       " ('M0910_01_06453_Android_Nexus', 'ноль шесть четыре пять три')]"
      ]
     },
     "execution_count": 36,
     "metadata": {},
     "output_type": "execute_result"
    }
   ],
   "source": [
    "list(file2words.items())[:100]"
   ]
  },
  {
   "cell_type": "code",
   "execution_count": 80,
   "metadata": {},
   "outputs": [
    {
     "data": {
      "text/plain": [
       "18726"
      ]
     },
     "execution_count": 80,
     "metadata": {},
     "output_type": "execute_result"
    }
   ],
   "source": [
    "len(file2words)"
   ]
  },
  {
   "cell_type": "code",
   "execution_count": 81,
   "metadata": {
    "collapsed": true
   },
   "outputs": [],
   "source": [
    "with open(\"../data/lip_reading/file2words.pickle\", \"wb\") as f:\n",
    "    pickle.dump(file2words, f, protocol=pickle.HIGHEST_PROTOCOL)"
   ]
  },
  {
   "cell_type": "code",
   "execution_count": 82,
   "metadata": {
    "collapsed": true
   },
   "outputs": [],
   "source": [
    "with open(\"../data/lip_reading/file2nums.pickle\", \"wb\") as f:\n",
    "    pickle.dump(file2nums, f, protocol=pickle.HIGHEST_PROTOCOL)"
   ]
  },
  {
   "cell_type": "code",
   "execution_count": null,
   "metadata": {
    "collapsed": true
   },
   "outputs": [],
   "source": []
  },
  {
   "cell_type": "code",
   "execution_count": 86,
   "metadata": {
    "collapsed": true
   },
   "outputs": [],
   "source": [
    "with open(\"../data/lip_reading/1_video_lips/train_male/M0003_02_0173924658_Android_SM_Gal_J3.pickle\", \"rb\") as f:\n",
    "    current_video = pickle.load(f)\n",
    "    a1 = pickle.load(f)\n",
    "    a2 = pickle.load(f)\n",
    "    a3 = pickle.load(f)"
   ]
  },
  {
   "cell_type": "code",
   "execution_count": 95,
   "metadata": {},
   "outputs": [
    {
     "data": {
      "text/plain": [
       "[0, 1, 7, 3, 9, 2, 4, 6, 5, 8]"
      ]
     },
     "execution_count": 95,
     "metadata": {},
     "output_type": "execute_result"
    }
   ],
   "source": [
    "file2nums[\"M0003_02_0173924658_Android_SM_Gal_J3\"]"
   ]
  },
  {
   "cell_type": "code",
   "execution_count": 90,
   "metadata": {},
   "outputs": [
    {
     "data": {
      "text/plain": [
       "(140, 20, 2)"
      ]
     },
     "execution_count": 90,
     "metadata": {},
     "output_type": "execute_result"
    }
   ],
   "source": [
    "a1.shape"
   ]
  },
  {
   "cell_type": "code",
   "execution_count": 85,
   "metadata": {},
   "outputs": [
    {
     "data": {
      "text/plain": [
       "(140, 50, 30)"
      ]
     },
     "execution_count": 85,
     "metadata": {},
     "output_type": "execute_result"
    }
   ],
   "source": [
    "current_video.shape"
   ]
  },
  {
   "cell_type": "code",
   "execution_count": 92,
   "metadata": {},
   "outputs": [
    {
     "data": {
      "text/plain": [
       "(['0000',\n",
       "  '0001',\n",
       "  '0002',\n",
       "  '0003',\n",
       "  '0004',\n",
       "  '0005',\n",
       "  '0006',\n",
       "  '0007',\n",
       "  '0008',\n",
       "  '0009',\n",
       "  '0010',\n",
       "  '0011',\n",
       "  '0012',\n",
       "  '0013',\n",
       "  '0014',\n",
       "  '0015',\n",
       "  '0016',\n",
       "  '0017',\n",
       "  '0018',\n",
       "  '0019',\n",
       "  '0020',\n",
       "  '0021',\n",
       "  '0022',\n",
       "  '0023',\n",
       "  '0024',\n",
       "  '0025',\n",
       "  '0026',\n",
       "  '0027',\n",
       "  '0028',\n",
       "  '0029',\n",
       "  '0030',\n",
       "  '0031',\n",
       "  '0032',\n",
       "  '0033',\n",
       "  '0034',\n",
       "  '0035',\n",
       "  '0036',\n",
       "  '0037',\n",
       "  '0038',\n",
       "  '0039',\n",
       "  '0040',\n",
       "  '0041',\n",
       "  '0042',\n",
       "  '0043',\n",
       "  '0044',\n",
       "  '0045',\n",
       "  '0046',\n",
       "  '0047',\n",
       "  '0048',\n",
       "  '0049',\n",
       "  '0050',\n",
       "  '0051',\n",
       "  '0052',\n",
       "  '0053',\n",
       "  '0054',\n",
       "  '0055',\n",
       "  '0056',\n",
       "  '0057',\n",
       "  '0058',\n",
       "  '0059',\n",
       "  '0060',\n",
       "  '0061',\n",
       "  '0062',\n",
       "  '0063',\n",
       "  '0064',\n",
       "  '0065',\n",
       "  '0066',\n",
       "  '0067',\n",
       "  '0068',\n",
       "  '0069',\n",
       "  '0070',\n",
       "  '0071',\n",
       "  '0072',\n",
       "  '0073',\n",
       "  '0074',\n",
       "  '0075',\n",
       "  '0076',\n",
       "  '0077',\n",
       "  '0078',\n",
       "  '0079',\n",
       "  '0080',\n",
       "  '0081',\n",
       "  '0082',\n",
       "  '0083',\n",
       "  '0084',\n",
       "  '0085',\n",
       "  '0086',\n",
       "  '0087',\n",
       "  '0088',\n",
       "  '0089',\n",
       "  '0090',\n",
       "  '0091',\n",
       "  '0092',\n",
       "  '0093',\n",
       "  '0094',\n",
       "  '0095',\n",
       "  '0096',\n",
       "  '0097',\n",
       "  '0098',\n",
       "  '0099',\n",
       "  '0100',\n",
       "  '0101',\n",
       "  '0102',\n",
       "  '0103',\n",
       "  '0104',\n",
       "  '0105',\n",
       "  '0106',\n",
       "  '0107',\n",
       "  '0108',\n",
       "  '0109',\n",
       "  '0110',\n",
       "  '0111',\n",
       "  '0112',\n",
       "  '0113',\n",
       "  '0114',\n",
       "  '0115',\n",
       "  '0116',\n",
       "  '0117',\n",
       "  '0118',\n",
       "  '0119',\n",
       "  '0120',\n",
       "  '0121',\n",
       "  '0122',\n",
       "  '0123',\n",
       "  '0124',\n",
       "  '0125',\n",
       "  '0126',\n",
       "  '0127',\n",
       "  '0128',\n",
       "  '0129',\n",
       "  '0130',\n",
       "  '0131',\n",
       "  '0132',\n",
       "  '0133',\n",
       "  '0134',\n",
       "  '0135',\n",
       "  '0136',\n",
       "  '0137',\n",
       "  '0138',\n",
       "  '0139'],\n",
       " 140)"
      ]
     },
     "execution_count": 92,
     "metadata": {},
     "output_type": "execute_result"
    }
   ],
   "source": [
    "a3, len(a3)"
   ]
  },
  {
   "cell_type": "code",
   "execution_count": 93,
   "metadata": {},
   "outputs": [
    {
     "data": {
      "text/plain": [
       "(array([[   27.],\n",
       "        [   67.],\n",
       "        [   95.],\n",
       "        [  130.],\n",
       "        [  166.],\n",
       "        [  203.],\n",
       "        [  229.],\n",
       "        [  265.],\n",
       "        [  299.],\n",
       "        [  332.],\n",
       "        [  363.],\n",
       "        [  395.],\n",
       "        [  431.],\n",
       "        [  466.],\n",
       "        [  496.],\n",
       "        [  532.],\n",
       "        [  563.],\n",
       "        [  596.],\n",
       "        [  628.],\n",
       "        [  661.],\n",
       "        [  697.],\n",
       "        [  730.],\n",
       "        [  761.],\n",
       "        [  795.],\n",
       "        [  829.],\n",
       "        [  863.],\n",
       "        [  895.],\n",
       "        [  929.],\n",
       "        [  963.],\n",
       "        [  997.],\n",
       "        [ 1029.],\n",
       "        [ 1063.],\n",
       "        [ 1098.],\n",
       "        [ 1131.],\n",
       "        [ 1163.],\n",
       "        [ 1197.],\n",
       "        [ 1230.],\n",
       "        [ 1265.],\n",
       "        [ 1297.],\n",
       "        [ 1330.],\n",
       "        [ 1364.],\n",
       "        [ 1398.],\n",
       "        [ 1435.],\n",
       "        [ 1464.],\n",
       "        [ 1499.],\n",
       "        [ 1533.],\n",
       "        [ 1565.],\n",
       "        [ 1598.],\n",
       "        [ 1631.],\n",
       "        [ 1668.],\n",
       "        [ 1698.],\n",
       "        [ 1732.],\n",
       "        [ 1765.],\n",
       "        [ 1804.],\n",
       "        [ 1832.],\n",
       "        [ 1865.],\n",
       "        [ 1899.],\n",
       "        [ 1937.],\n",
       "        [ 1967.],\n",
       "        [ 1999.],\n",
       "        [ 2033.],\n",
       "        [ 2068.],\n",
       "        [ 2100.],\n",
       "        [ 2134.],\n",
       "        [ 2168.],\n",
       "        [ 2202.],\n",
       "        [ 2234.],\n",
       "        [ 2267.],\n",
       "        [ 2301.],\n",
       "        [ 2339.],\n",
       "        [ 2367.],\n",
       "        [ 2404.],\n",
       "        [ 2435.],\n",
       "        [ 2471.],\n",
       "        [ 2502.],\n",
       "        [ 2536.],\n",
       "        [ 2569.],\n",
       "        [ 2604.],\n",
       "        [ 2636.],\n",
       "        [ 2670.],\n",
       "        [ 2703.],\n",
       "        [ 2739.],\n",
       "        [ 2769.],\n",
       "        [ 2805.],\n",
       "        [ 2838.],\n",
       "        [ 2873.],\n",
       "        [ 2903.],\n",
       "        [ 2940.],\n",
       "        [ 2974.],\n",
       "        [ 3006.],\n",
       "        [ 3037.],\n",
       "        [ 3073.],\n",
       "        [ 3104.],\n",
       "        [ 3139.],\n",
       "        [ 3175.],\n",
       "        [ 3204.],\n",
       "        [ 3241.],\n",
       "        [ 3272.],\n",
       "        [ 3304.],\n",
       "        [ 3338.],\n",
       "        [ 3372.],\n",
       "        [ 3407.],\n",
       "        [ 3437.],\n",
       "        [ 3472.],\n",
       "        [ 3505.],\n",
       "        [ 3540.],\n",
       "        [ 3572.],\n",
       "        [ 3605.],\n",
       "        [ 3639.],\n",
       "        [ 3674.],\n",
       "        [ 3705.],\n",
       "        [ 3739.],\n",
       "        [ 3776.],\n",
       "        [ 3810.],\n",
       "        [ 3839.],\n",
       "        [ 3873.],\n",
       "        [ 3906.],\n",
       "        [ 3946.],\n",
       "        [ 3973.],\n",
       "        [ 4007.],\n",
       "        [ 4040.],\n",
       "        [ 4076.],\n",
       "        [ 4107.],\n",
       "        [ 4141.],\n",
       "        [ 4174.],\n",
       "        [ 4208.],\n",
       "        [ 4240.],\n",
       "        [ 4274.],\n",
       "        [ 4311.],\n",
       "        [ 4343.],\n",
       "        [ 4375.],\n",
       "        [ 4408.],\n",
       "        [ 4442.],\n",
       "        [ 4479.],\n",
       "        [ 4508.],\n",
       "        [ 4542.],\n",
       "        [ 4575.],\n",
       "        [ 4609.],\n",
       "        [ 4644.],\n",
       "        [ 4678.]], dtype=float32), 140)"
      ]
     },
     "execution_count": 93,
     "metadata": {},
     "output_type": "execute_result"
    }
   ],
   "source": [
    "a2, len(a2)"
   ]
  },
  {
   "cell_type": "code",
   "execution_count": 96,
   "metadata": {},
   "outputs": [
    {
     "data": {
      "text/plain": [
       "28.0"
      ]
     },
     "execution_count": 96,
     "metadata": {},
     "output_type": "execute_result"
    }
   ],
   "source": [
    "140/5"
   ]
  },
  {
   "cell_type": "code",
   "execution_count": null,
   "metadata": {
    "collapsed": true
   },
   "outputs": [],
   "source": []
  }
 ],
 "metadata": {
  "kernelspec": {
   "display_name": "Python (ml3gpu)",
   "language": "python",
   "name": "ml3gpu"
  },
  "language_info": {
   "codemirror_mode": {
    "name": "ipython",
    "version": 3
   },
   "file_extension": ".py",
   "mimetype": "text/x-python",
   "name": "python",
   "nbconvert_exporter": "python",
   "pygments_lexer": "ipython3",
   "version": "3.5.2"
  }
 },
 "nbformat": 4,
 "nbformat_minor": 2
}
