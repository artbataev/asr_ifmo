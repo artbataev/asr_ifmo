{
 "cells": [
  {
   "cell_type": "code",
   "execution_count": 107,
   "metadata": {
    "collapsed": true
   },
   "outputs": [],
   "source": [
    "import numpy as np\n",
    "import tensorflow as tf\n",
    "import os\n",
    "import tqdm\n",
    "import glob\n",
    "import sys\n",
    "import matplotlib.pyplot as plt\n",
    "import pickle\n",
    "import multiprocessing\n",
    "import itertools\n",
    "import random\n",
    "from sklearn.model_selection import train_test_split\n",
    "%matplotlib inline"
   ]
  },
  {
   "cell_type": "code",
   "execution_count": 6,
   "metadata": {},
   "outputs": [
    {
     "name": "stdout",
     "output_type": "stream",
     "text": [
      "The autoreload extension is already loaded. To reload it, use:\n",
      "  %reload_ext autoreload\n"
     ]
    }
   ],
   "source": [
    "%load_ext autoreload\n",
    "%autoreload 2"
   ]
  },
  {
   "cell_type": "code",
   "execution_count": 19,
   "metadata": {
    "collapsed": true
   },
   "outputs": [],
   "source": [
    "with open(\"../data/lip_reading/file2nums.pickle\", \"rb\") as f:\n",
    "    file2nums = pickle.load(f)"
   ]
  },
  {
   "cell_type": "code",
   "execution_count": 92,
   "metadata": {
    "collapsed": true
   },
   "outputs": [],
   "source": [
    "with open(\"../data/lip_reading/new_alig\", \"r\") as f:\n",
    "    phonemes = f.readlines()\n",
    "phonemes = list(map(lambda x: x.strip().split(), phonemes))"
   ]
  },
  {
   "cell_type": "code",
   "execution_count": 94,
   "metadata": {
    "collapsed": true
   },
   "outputs": [],
   "source": [
    "with open(\"../data/lip_reading/2_features/phones\", \"r\") as f:\n",
    "    id2phone = list(map(str.strip, f.readlines()))"
   ]
  },
  {
   "cell_type": "code",
   "execution_count": 96,
   "metadata": {},
   "outputs": [],
   "source": [
    "phone2id = dict(zip(id2phone, range(len(id2phone))))"
   ]
  },
  {
   "cell_type": "code",
   "execution_count": 98,
   "metadata": {},
   "outputs": [],
   "source": [
    "file2phomenes = {}\n",
    "for filename, *phones in phonemes:\n",
    "    file2phomenes[filename] = list(map(lambda x: phone2id[x], phones))"
   ]
  },
  {
   "cell_type": "code",
   "execution_count": 102,
   "metadata": {},
   "outputs": [],
   "source": [
    "def align_frames(n, initial_video, timesteps):\n",
    "    assert initial_video.shape[0] == len(timesteps)\n",
    "    timesteps_new = np.round(timesteps / 10)\n",
    "    new_video = np.zeros((n, initial_video.shape[2], initial_video.shape[1]))\n",
    "    pointer_cur = 0\n",
    "    for i in range(n):\n",
    "        if pointer_cur + 1 < len(timesteps_new):\n",
    "            if timesteps_new[pointer_cur + 1] - \\\n",
    "                np.floor((timesteps_new[pointer_cur + 1] - \\\n",
    "                      timesteps_new[pointer_cur]) / 2) <= i:\n",
    "                pointer_cur += 1\n",
    "        frame = initial_video[pointer_cur].T\n",
    "        new_video[i] = (frame - np.mean(frame)) / np.std(frame, ddof=1)\n",
    "#         print(i, timesteps_new[pointer_cur])\n",
    "    return new_video"
   ]
  },
  {
   "cell_type": "code",
   "execution_count": 103,
   "metadata": {},
   "outputs": [
    {
     "name": "stderr",
     "output_type": "stream",
     "text": [
      "100%|██████████| 9435/9435 [05:56<00:00, 26.47it/s]\n"
     ]
    }
   ],
   "source": [
    "for file in tqdm.tqdm(glob.glob(\"../data/lip_reading/1_video_lips/train_*/*.pickle\")):\n",
    "    file_only_name = os.path.splitext(os.path.basename(file))[0]\n",
    "    labels = file_only_name.split(\"_\")[2]\n",
    "    labels = list(map(int, labels))\n",
    "    try:\n",
    "        labels_rec = file2nums[file_only_name]\n",
    "        assert labels_rec == labels\n",
    "    except KeyError:\n",
    "        continue\n",
    "    mfcc_file = os.path.join(\"../data/lip_reading/2_features/mfcc/train/\", file_only_name + \".npy\")\n",
    "    mfcc = np.load(mfcc_file)\n",
    "    with open(file, \"rb\") as f:\n",
    "        current_video = pickle.load(f)\n",
    "        landmarks = pickle.load(f)\n",
    "        timesteps = pickle.load(f)\n",
    "        frames = pickle.load(f)\n",
    "    full_video = align_frames(mfcc.shape[0], current_video, timesteps)\n",
    "    file_out = os.path.join(\"../data/lip_reading/synchronized/train/\", file_only_name + \".npz\")\n",
    "    cur_phomenes = file2phomenes[file_only_name]\n",
    "    np.savez(file_out, mfcc=mfcc, video=full_video, landmarks=landmarks, labels=np.array(labels), phonemes=cur_phomenes)"
   ]
  },
  {
   "cell_type": "code",
   "execution_count": 114,
   "metadata": {
    "collapsed": true
   },
   "outputs": [],
   "source": [
    "files = list(glob.glob(\"../data/lip_reading/synchronized/train/*.npz\"))"
   ]
  },
  {
   "cell_type": "code",
   "execution_count": null,
   "metadata": {
    "collapsed": true
   },
   "outputs": [],
   "source": []
  },
  {
   "cell_type": "code",
   "execution_count": 116,
   "metadata": {
    "collapsed": true
   },
   "outputs": [],
   "source": [
    "files_train, files_val = train_test_split(files, test_size=0.1)"
   ]
  },
  {
   "cell_type": "code",
   "execution_count": 117,
   "metadata": {},
   "outputs": [],
   "source": [
    "with open(\"train_files.pickle\", \"wb\") as f:\n",
    "    pickle.dump(files_train, f, pickle.HIGHEST_PROTOCOL)\n",
    "with open(\"val_files.pickle\", \"wb\") as f:\n",
    "    pickle.dump(files_val, f, pickle.HIGHEST_PROTOCOL)"
   ]
  },
  {
   "cell_type": "code",
   "execution_count": null,
   "metadata": {
    "collapsed": true
   },
   "outputs": [],
   "source": []
  }
 ],
 "metadata": {
  "kernelspec": {
   "display_name": "Python (ml3gpu)",
   "language": "python",
   "name": "ml3gpu"
  },
  "language_info": {
   "codemirror_mode": {
    "name": "ipython",
    "version": 3
   },
   "file_extension": ".py",
   "mimetype": "text/x-python",
   "name": "python",
   "nbconvert_exporter": "python",
   "pygments_lexer": "ipython3",
   "version": "3.5.2"
  }
 },
 "nbformat": 4,
 "nbformat_minor": 2
}
